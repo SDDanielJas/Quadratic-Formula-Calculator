{
  "nbformat": 4,
  "nbformat_minor": 0,
  "metadata": {
    "colab": {
      "name": "Quadratic formula.ipynb",
      "provenance": [],
      "collapsed_sections": []
    },
    "kernelspec": {
      "name": "python3",
      "display_name": "Python 3"
    }
  },
  "cells": [
    {
      "cell_type": "code",
      "metadata": {
        "id": "TvE5gfs3w58B",
        "colab": {
          "base_uri": "https://localhost:8080/"
        },
        "outputId": "e9a115de-3c47-4e01-e4c0-5f8ee0d534d9"
      },
      "source": [
        "print(\"welcome to the Quadtradic formula machine! Plase enter in the vales for a,b,and c, so we can find the two values for X\")\n",
        "aval=int(input(\"a value: \"))\n",
        "bval=int(input(\"b value: \"))\n",
        "cval=int(input(\"c value: \"))\n",
        "print(\" \")\n",
        "import math\n",
        "\n",
        "negb=-bval\n",
        "\n",
        "sqredval=(bval*bval)-(4*aval*cval)\n",
        "sqrt = (math.pow(sqredval, 0.5)) \n",
        "\n",
        "bottom=2*aval \n",
        "\n",
        "firstan=(negb+sqrt)/bottom\n",
        "sedcoundan=(negb-sqrt)/bottom \n",
        "\n",
        "print(\"Your first answer is: \", firstan)\n",
        "print(\"Your secound anwser is: \", sedcoundan)\n",
        "\n",
        "print(\"Dont forget to either plug both the answers in or factor the eqaution\")"
      ],
      "execution_count": null,
      "outputs": [
        {
          "output_type": "stream",
          "text": [
            "welcome to the Quadtradic formula machine! Plase enter in the vales for a,b,and c, so we can find the two values for X\n"
          ],
          "name": "stdout"
        }
      ]
    }
  ]
}